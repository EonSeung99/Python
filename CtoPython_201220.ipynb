{
  "nbformat": 4,
  "nbformat_minor": 0,
  "metadata": {
    "colab": {
      "name": "CtoPython.ipynb",
      "provenance": [],
      "collapsed_sections": [],
      "authorship_tag": "ABX9TyPFwmQIQ9qdn0I5ujy5qnWL",
      "include_colab_link": true
    },
    "kernelspec": {
      "name": "python3",
      "display_name": "Python 3"
    }
  },
  "cells": [
    {
      "cell_type": "markdown",
      "metadata": {
        "id": "view-in-github",
        "colab_type": "text"
      },
      "source": [
        "<a href=\"https://colab.research.google.com/github/EonSeung99/Python/blob/master/CtoPython_201220.ipynb\" target=\"_parent\"><img src=\"https://colab.research.google.com/assets/colab-badge.svg\" alt=\"Open In Colab\"/></a>"
      ]
    },
    {
      "cell_type": "code",
      "metadata": {
        "colab": {
          "base_uri": "https://localhost:8080/"
        },
        "id": "tylf1q5l2nq-",
        "outputId": "32531f2c-722f-4b8b-a3aa-ca6001aca066"
      },
      "source": [
        "#프로그램 사용자로부텉 두 개의 정수를 입력 받아서 두 수의 뺄셈과 곱셈의 결과를 출력하는 프로그램을 작성해보자.\r\n",
        "def result(num1,num2):\r\n",
        "  print(num1-num2, num1*num2)\r\n",
        "\r\n",
        "result(10,2)\r\n"
      ],
      "execution_count": null,
      "outputs": [
        {
          "output_type": "stream",
          "text": [
            "8 20\n"
          ],
          "name": "stdout"
        }
      ]
    },
    {
      "cell_type": "code",
      "metadata": {
        "colab": {
          "base_uri": "https://localhost:8080/"
        },
        "id": "69y2Orib3374",
        "outputId": "f042f945-d07f-4a4d-eb7a-f567ac8e61d3"
      },
      "source": [
        "#프로그램 사용자로부터 세 개의 정수 num1,num2,num3를 순서대로 입력 받은 후에, 다음 연산의 결과를 출력하는 프로그램을 작성해보자.\r\n",
        "#num1xnum2+num3\r\n",
        "def problem2(num1,num2,num3):\r\n",
        "  print(num1*num2+num3)\r\n",
        "\r\n",
        "problem2(2,4,6)"
      ],
      "execution_count": null,
      "outputs": [
        {
          "output_type": "stream",
          "text": [
            "14\n"
          ],
          "name": "stdout"
        }
      ]
    },
    {
      "cell_type": "code",
      "metadata": {
        "colab": {
          "base_uri": "https://localhost:8080/"
        },
        "id": "PLxkRep45H4d",
        "outputId": "7df24b48-a446-4837-d13a-48cc1f1c882d"
      },
      "source": [
        "#하나의 정수를 입력 받아서, 그 수의 제곱의 결과를 출력하는 프로그램을 작성해보자.\r\n",
        "def sq(a):\r\n",
        "  print(a**2)\r\n",
        "\r\n",
        "\r\n",
        "sq(5)\r\n"
      ],
      "execution_count": null,
      "outputs": [
        {
          "output_type": "stream",
          "text": [
            "25\n"
          ],
          "name": "stdout"
        }
      ]
    },
    {
      "cell_type": "code",
      "metadata": {
        "colab": {
          "base_uri": "https://localhost:8080/"
        },
        "id": "RoPJctOp34RH",
        "outputId": "e1cca836-74b3-4e0a-e5d8-701d2a2c3a38"
      },
      "source": [
        "#입력 받은 두 정수를 나누었을 때 얻게되는 몫과 나머지를 출력하는 프로그램을 작성해보자.\r\n",
        "def sol(a,b):\r\n",
        "  print(\"몫은: \",a//b,\"이고, 나머지는:\",a%b,\"입니다.\")\r\n",
        "  \r\n",
        "sol(5,2)\r\n"
      ],
      "execution_count": null,
      "outputs": [
        {
          "output_type": "stream",
          "text": [
            "몫은:  2 이고, 나머지는: 1 입니다.\n"
          ],
          "name": "stdout"
        }
      ]
    },
    {
      "cell_type": "code",
      "metadata": {
        "colab": {
          "base_uri": "https://localhost:8080/"
        },
        "id": "B9ECtyja6TrG",
        "outputId": "4561b7a8-e42a-47fa-ea26-612606fc8a83"
      },
      "source": [
        "#입력 받은 세 개의 정수 num1,num2,num3를 대상으로 다음연산의 결과를 출력하는 프로그램을 작성해보자.\r\n",
        "#(num1-num2)x(num2+num3)x(num3%num1)\r\n",
        "\r\n",
        "def sol2(num1,num2,num3):\r\n",
        "  print((num1-num2)*(num2+num3)*(num3%num1))\r\n",
        "\r\n",
        "sol2(25,47,23)"
      ],
      "execution_count": null,
      "outputs": [
        {
          "output_type": "stream",
          "text": [
            "-35420\n"
          ],
          "name": "stdout"
        }
      ]
    },
    {
      "cell_type": "code",
      "metadata": {
        "colab": {
          "base_uri": "https://localhost:8080/"
        },
        "id": "cTX1XZHC7Zpe",
        "outputId": "771eb280-35f1-4820-abc2-70f8ad6f69d4"
      },
      "source": [
        "#프로그램 사용자로부터 양의정수를 하나 입력 받아서, 그 수만큼\"Hello world!\"를 출력하는 프로그램을 작성해보자. p.155~\r\n",
        "a=int(input(\"양의 정수를 입력하시오:\"))\r\n",
        "num=0\r\n",
        "\r\n",
        "while(num<a):\r\n",
        "  print(\"Hello world!\")\r\n",
        "  num+=1\r\n",
        "\r\n"
      ],
      "execution_count": null,
      "outputs": [
        {
          "output_type": "stream",
          "text": [
            "양의 정수를 입력하시오:3\n",
            "Hello world!\n",
            "Hello world!\n",
            "Hello world!\n"
          ],
          "name": "stdout"
        }
      ]
    },
    {
      "cell_type": "code",
      "metadata": {
        "colab": {
          "base_uri": "https://localhost:8080/"
        },
        "id": "8-1CiwhsBIVM",
        "outputId": "31b63a1e-c14b-4ad7-e59a-92c25fb33a88"
      },
      "source": [
        "#프로그램 사용자로부터 양의 정수를 하나 입력 받은 다음, 그 수만큼 3의 배수를 출력하는 프로그램을 작성해보자. 예를 들어서 5를 입력 받았다면,3,6,9,12,15,를 출력해야한다.\r\n",
        "\r\n",
        "b=int(input(\"양의 정수를 입력하시오:\"))\r\n",
        "num=1\r\n",
        "while(num<=b):\r\n",
        "  print(3*num)\r\n",
        "  num+=1\r\n",
        "\r\n",
        "\r\n"
      ],
      "execution_count": 3,
      "outputs": [
        {
          "output_type": "stream",
          "text": [
            "양의 정수를 입력하시오:5\n",
            "3\n",
            "6\n",
            "9\n",
            "12\n",
            "15\n"
          ],
          "name": "stdout"
        }
      ]
    },
    {
      "cell_type": "code",
      "metadata": {
        "colab": {
          "base_uri": "https://localhost:8080/"
        },
        "id": "Vzpgs8amoSl7",
        "outputId": "80b4fbe1-d474-47e9-b56a-c0764dcb8a95"
      },
      "source": [
        "#프로그램 사용자로부터 계속해서 정수를 입력받는다. 그리고 그값을 계속해서 더해 나간다. 이러한 작업은 프로그램 사용자가 0을 입력할 때까지 계속되어야 하며, \r\n",
        "#0이 입력되면 입력된 모든정수의 합을 출력하고 프로그램을 종료시킨다.\r\n",
        "\r\n",
        "sum=0\r\n",
        "while True:\r\n",
        "  inp=int(input(\"정수를 입력하십시오:\"))\r\n",
        "  sum+=inp\r\n",
        "  if inp==0:\r\n",
        "    print(sum)\r\n",
        "    break"
      ],
      "execution_count": 13,
      "outputs": [
        {
          "output_type": "stream",
          "text": [
            "정수를 입력하십시오:2\n",
            "정수를 입력하십시오:3\n",
            "정수를 입력하십시오:5\n",
            "정수를 입력하십시오:0\n",
            "10\n"
          ],
          "name": "stdout"
        }
      ]
    },
    {
      "cell_type": "code",
      "metadata": {
        "colab": {
          "base_uri": "https://localhost:8080/"
        },
        "id": "tOpXvAw1pXxI",
        "outputId": "292add04-5a93-41ba-c2d9-5221eacf9652"
      },
      "source": [
        "#프로그램 상용자로부터 입력받은 숫자에 해당하는 구구단을 출력하되, 역순으로 출력하는 프로그램을 작성해보자.4\r\n",
        "seed=int(input(\"정수를 입력하시오:\"))\r\n",
        "num=9\r\n",
        "while (num>0):\r\n",
        "  print(seed*num)\r\n",
        "  num-=1"
      ],
      "execution_count": 17,
      "outputs": [
        {
          "output_type": "stream",
          "text": [
            "정수를 입력하시오:6\n",
            "54\n",
            "48\n",
            "42\n",
            "36\n",
            "30\n",
            "24\n",
            "18\n",
            "12\n",
            "6\n"
          ],
          "name": "stdout"
        }
      ]
    },
    {
      "cell_type": "code",
      "metadata": {
        "colab": {
          "base_uri": "https://localhost:8080/"
        },
        "id": "UvZnXtzUxPEO",
        "outputId": "fa413f70-8f3c-4746-90bd-99495b58603b"
      },
      "source": [
        "#프로그램 사용자로부터 입력받은 정수의 평균을 출력하는 프로그램을 작성하되, 다음 두가지 조건을 만족시켜야한다.\r\n",
        "#1.먼저 몇개의 정수를 입력 할 것인지 프로그램 사용자에게 묻는다. 그리고 그 수만큼 정수를 입력받는다.\r\n",
        "#2.평균값은 소수점 이하까지 계산해서 출력한다.\r\n",
        "import numpy as np\r\n",
        "sum=0\r\n",
        "prob=int(input(\"몇개의 정수를 입력 받으시겠습니까?:\"))\r\n",
        "for i in range(prob):\r\n",
        "  s=int(input(\"정수를 입력하시오:\"))\r\n",
        "  sum+=s\r\n",
        "\r\n",
        "print(sum/prob)"
      ],
      "execution_count": 25,
      "outputs": [
        {
          "output_type": "stream",
          "text": [
            "몇개의 정수를 입력 받으시겠습니까?:8\n",
            "정수를 입력하시오:3\n",
            "정수를 입력하시오:7\n",
            "정수를 입력하시오:8\n",
            "정수를 입력하시오:3\n",
            "정수를 입력하시오:5\n",
            "정수를 입력하시오:1\n",
            "정수를 입력하시오:8\n",
            "정수를 입력하시오:0\n",
            "4.375\n"
          ],
          "name": "stdout"
        }
      ]
    },
    {
      "cell_type": "code",
      "metadata": {
        "colab": {
          "base_uri": "https://localhost:8080/"
        },
        "id": "NhN1fIRA05VL",
        "outputId": "dad7c9ab-8950-4f89-e5c7-092adf6d8e5c"
      },
      "source": [
        "#프로그램 사용자로부터 총 5개의 정수를 입력 받아서, 그수의 합을 출력하는 프로그램을 작성해보자, 단 정수는 반드시 1이상이어야한다,\r\n",
        "#만약에 1미만의 수가 입력되는 경우에는, 이를 입력으로 인정하지 않고 재입력을 요구해야한다. 그래서 결국 1이상의 정수5개를 모두 입력 받을 수 있도록 프로그램을 완성해야한다.\r\n",
        "num=1\r\n",
        "sum=0\r\n",
        "for i in range(5):\r\n",
        "  que=int(input(\"정수를 입력하시오:\"))\r\n",
        "  if que<1:\r\n",
        "    print(\"0보다 큰 실수를 입력하세요.\")\r\n",
        "    sum+=0\r\n",
        "  sum+=que\r\n",
        "\r\n",
        "print(sum)\r\n"
      ],
      "execution_count": 58,
      "outputs": [
        {
          "output_type": "stream",
          "text": [
            "정수를 입력하시오:3\n",
            "정수를 입력하시오:4\n",
            "정수를 입력하시오:0\n",
            "0보다 큰 실수 입력\n",
            "정수를 입력하시오:1\n",
            "정수를 입력하시오:2\n",
            "10\n"
          ],
          "name": "stdout"
        }
      ]
    },
    {
      "cell_type": "markdown",
      "metadata": {
        "id": "CUWrQM-n_KaW"
      },
      "source": [
        "###아래의 출력을 보이는 프로그램을 작성해보자\r\n",
        "### *\r\n",
        "### 0 *\r\n",
        "### 0 0 *\r\n",
        "### 0 0 0 *\r\n",
        "### 0 0 0 0 *"
      ]
    },
    {
      "cell_type": "code",
      "metadata": {
        "id": "afEcMo7h8j_h"
      },
      "source": [
        ""
      ],
      "execution_count": 69,
      "outputs": []
    },
    {
      "cell_type": "code",
      "metadata": {
        "id": "-5Yb9GlrE3TP"
      },
      "source": [
        ""
      ],
      "execution_count": null,
      "outputs": []
    }
  ]
}