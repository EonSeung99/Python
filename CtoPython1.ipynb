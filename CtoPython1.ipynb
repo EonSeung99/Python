{
  "nbformat": 4,
  "nbformat_minor": 0,
  "metadata": {
    "colab": {
      "name": "CtoPython.ipynb",
      "provenance": [],
      "collapsed_sections": []
    },
    "kernelspec": {
      "name": "python3",
      "display_name": "Python 3"
    }
  },
  "cells": [
    {
      "cell_type": "code",
      "metadata": {
        "colab": {
          "base_uri": "https://localhost:8080/"
        },
        "id": "tylf1q5l2nq-",
        "outputId": "32531f2c-722f-4b8b-a3aa-ca6001aca066"
      },
      "source": [
        "#프로그램 사용자로부텉 두 개의 정수를 입력 받아서 두 수의 뺄셈과 곱셈의 결과를 출력하는 프로그램을 작성해보자.\r\n",
        "def result(num1,num2):\r\n",
        "  print(num1-num2, num1*num2)\r\n",
        "\r\n",
        "result(10,2)\r\n"
      ],
      "execution_count": 12,
      "outputs": [
        {
          "output_type": "stream",
          "text": [
            "8 20\n"
          ],
          "name": "stdout"
        }
      ]
    },
    {
      "cell_type": "code",
      "metadata": {
        "colab": {
          "base_uri": "https://localhost:8080/"
        },
        "id": "69y2Orib3374",
        "outputId": "f042f945-d07f-4a4d-eb7a-f567ac8e61d3"
      },
      "source": [
        "#프로그램 사용자로부터 세 개의 정수 num1,num2,num3를 순서대로 입력 받은 후에, 다음 연산의 결과를 출력하는 프로그램을 작성해보자.\r\n",
        "#num1xnum2+num3\r\n",
        "def problem2(num1,num2,num3):\r\n",
        "  print(num1*num2+num3)\r\n",
        "\r\n",
        "problem2(2,4,6)"
      ],
      "execution_count": 14,
      "outputs": [
        {
          "output_type": "stream",
          "text": [
            "14\n"
          ],
          "name": "stdout"
        }
      ]
    },
    {
      "cell_type": "code",
      "metadata": {
        "colab": {
          "base_uri": "https://localhost:8080/"
        },
        "id": "PLxkRep45H4d",
        "outputId": "7df24b48-a446-4837-d13a-48cc1f1c882d"
      },
      "source": [
        "#하나의 정수를 입력 받아서, 그 수의 제곱의 결과를 출력하는 프로그램을 작성해보자.\r\n",
        "def sq(a):\r\n",
        "  print(a**2)\r\n",
        "\r\n",
        "\r\n",
        "sq(5)\r\n"
      ],
      "execution_count": 15,
      "outputs": [
        {
          "output_type": "stream",
          "text": [
            "25\n"
          ],
          "name": "stdout"
        }
      ]
    },
    {
      "cell_type": "code",
      "metadata": {
        "colab": {
          "base_uri": "https://localhost:8080/"
        },
        "id": "RoPJctOp34RH",
        "outputId": "e1cca836-74b3-4e0a-e5d8-701d2a2c3a38"
      },
      "source": [
        "#입력 받은 두 정수를 나누었을 때 얻게되는 몫과 나머지를 출력하는 프로그램을 작성해보자.\r\n",
        "def sol(a,b):\r\n",
        "  print(\"몫은: \",a//b,\"이고, 나머지는:\",a%b,\"입니다.\")\r\n",
        "  \r\n",
        "sol(5,2)\r\n"
      ],
      "execution_count": 17,
      "outputs": [
        {
          "output_type": "stream",
          "text": [
            "몫은:  2 이고, 나머지는: 1 입니다.\n"
          ],
          "name": "stdout"
        }
      ]
    },
    {
      "cell_type": "code",
      "metadata": {
        "colab": {
          "base_uri": "https://localhost:8080/"
        },
        "id": "B9ECtyja6TrG",
        "outputId": "4561b7a8-e42a-47fa-ea26-612606fc8a83"
      },
      "source": [
        "#입력 받은 세 개의 정수 num1,num2,num3를 대상으로 다음연산의 결과를 출력하는 프로그램을 작성해보자.\r\n",
        "#(num1-num2)x(num2+num3)x(num3%num1)\r\n",
        "\r\n",
        "def sol2(num1,num2,num3):\r\n",
        "  print((num1-num2)*(num2+num3)*(num3%num1))\r\n",
        "\r\n",
        "sol2(25,47,23)"
      ],
      "execution_count": 18,
      "outputs": [
        {
          "output_type": "stream",
          "text": [
            "-35420\n"
          ],
          "name": "stdout"
        }
      ]
    },
    {
      "cell_type": "code",
      "metadata": {
        "colab": {
          "base_uri": "https://localhost:8080/"
        },
        "id": "cTX1XZHC7Zpe",
        "outputId": "771eb280-35f1-4820-abc2-70f8ad6f69d4"
      },
      "source": [
        "#프로그램 사용자로부터 양의정수를 하나 입력 받아서, 그 수만큼\"Hello world!\"를 출력하는 프로그램을 작성해보자.\r\n",
        "a=int(input(\"양의 정수를 입력하시오:\"))\r\n",
        "num=0\r\n",
        "\r\n",
        "while(num<a):\r\n",
        "  print(\"Hello world!\")\r\n",
        "  num+=1\r\n",
        "\r\n"
      ],
      "execution_count": 28,
      "outputs": [
        {
          "output_type": "stream",
          "text": [
            "양의 정수를 입력하시오:3\n",
            "Hello world!\n",
            "Hello world!\n",
            "Hello world!\n"
          ],
          "name": "stdout"
        }
      ]
    },
    {
      "cell_type": "code",
      "metadata": {
        "colab": {
          "base_uri": "https://localhost:8080/"
        },
        "id": "8-1CiwhsBIVM",
        "outputId": "db1bd7ef-1e77-4f48-f034-30a33e5af820"
      },
      "source": [
        ""
      ],
      "execution_count": 27,
      "outputs": [
        {
          "output_type": "stream",
          "text": [
            "Help on method raw_input in module ipykernel.kernelbase:\n",
            "\n",
            "raw_input(prompt='') method of google.colab._kernel.Kernel instance\n",
            "    Forward raw_input to frontends\n",
            "    \n",
            "    Raises\n",
            "    ------\n",
            "    StdinNotImplentedError if active frontend doesn't support stdin.\n",
            "\n"
          ],
          "name": "stdout"
        }
      ]
    }
  ]
}